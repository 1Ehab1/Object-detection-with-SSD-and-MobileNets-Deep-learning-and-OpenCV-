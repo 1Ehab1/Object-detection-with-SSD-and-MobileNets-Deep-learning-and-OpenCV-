{
 "cells": [
  {
   "cell_type": "markdown",
   "metadata": {},
   "source": [
    "# Object Detection / Optical Character Recognition (ORC) \n",
    "\n",
    "● Implement an object detector which identifies the classes of the objects in \n",
    "an image or video. \n",
    "\n",
    "OR\n",
    "\n",
    "● Character detector which extracts printed or handwritten text from an \n",
    "image or video.\n",
    "\n",
    "● Below resources are just for references you can use any library/approach \n",
    "to achieve the goal.\n",
    "\n",
    "● Resources:\n",
    "\n",
    "1- https://pyimagesearch.com/2017/09/11/object-detection-with-deep-learning-and-opencv/\n",
    "\n",
    "2- https://medium.com/capital-one-tech/learning-to-read-computer-vision-methods-for-extracting-text-from-images-2ffcdae11594 "
   ]
  },
  {
   "cell_type": "markdown",
   "metadata": {},
   "source": [
    "-----------------------------"
   ]
  },
  {
   "cell_type": "markdown",
   "metadata": {},
   "source": [
    "* MobileNets was designed for resource constrained devices.\n",
    "\n",
    "* It is efficient and has a small size.\n",
    "\n",
    "* Combination between MobileNets and Single Shot Detectors gives fast and efficient deep-learning based object detection.\n",
    "\n",
    "* The MobileNet SSD was first trained on the COCO dataset then fine-tuned on PASCAL VOC reaching 72.7% mAP.\n",
    "\n",
    "* It detects 20 objects in images (+1 for the background class), including airplanes, bicycles, birds, boats, bottles, buses, cars, cats, chairs, cows, dining tables, dogs, horses, motorbikes, people, potted plants, sheep, sofas, trains, and tv monitors.\n"
   ]
  },
  {
   "cell_type": "markdown",
   "metadata": {},
   "source": [
    "## Object detection with deep learning and OpenCV"
   ]
  },
  {
   "cell_type": "code",
   "execution_count": 1,
   "metadata": {},
   "outputs": [],
   "source": [
    "# import the necessary packages\n",
    "import numpy as np\n",
    "import cv2\n",
    "import matplotlib.pyplot as plt\n",
    "%matplotlib inline\n",
    "import os"
   ]
  },
  {
   "cell_type": "code",
   "execution_count": 2,
   "metadata": {},
   "outputs": [
    {
     "name": "stdout",
     "output_type": "stream",
     "text": [
      "Classes:\n",
      " ['background', 'aeroplane', 'bicycle', 'bird', 'boat', 'bottle', 'bus', 'car', 'cat', 'chair', 'cow', 'diningtable', 'dog', 'horse', 'motorbike', 'person', 'pottedplant', 'sheep', 'sofa', 'train', 'tvmonitor'] \n",
      "\n",
      "Colors:\n",
      "  [[116.76532565  69.58874174  86.39171675]\n",
      " [106.78229404  26.26245988 220.44064264]\n",
      " [ 94.63466025 212.62130009 225.48276923]\n",
      " [129.23921519  82.98077115 136.56661183]\n",
      " [225.77983384 140.52341472 225.93875781]\n",
      " [115.3792317  121.99382009 196.18964783]\n",
      " [103.64708986 223.54106587 143.20083776]\n",
      " [109.50307127 165.97757309 243.49666632]\n",
      " [ 10.38016028 252.48514125 145.92865285]\n",
      " [102.23152427 202.54802787 235.46272421]\n",
      " [164.61284564 143.52269845 239.41167515]\n",
      " [114.71936015  26.04607337  30.52065659]\n",
      " [187.346738     8.05743056  11.80034693]\n",
      " [117.46098096 122.59479982 148.77012833]\n",
      " [234.50358706 173.6465858  222.28897035]\n",
      " [119.82154553 154.50459787 110.77530017]\n",
      " [ 26.13957854  26.75528626  18.3685783 ]\n",
      " [254.04910506   9.07980012  51.98548411]\n",
      " [101.40355579 191.70436715  85.39799009]\n",
      " [195.64804509 136.97219251  44.32374584]\n",
      " [ 34.86515142 137.62125778 103.00541603]] \n",
      "\n"
     ]
    }
   ],
   "source": [
    "# The list of class labels MobileNet SSD was trained to detect\n",
    "CLASSES = [\"background\", \"aeroplane\", \"bicycle\", \"bird\", \"boat\",\n",
    "            \"bottle\", \"bus\", \"car\", \"cat\", \"chair\", \"cow\", \"diningtable\",\n",
    "            \"dog\", \"horse\", \"motorbike\", \"person\", \"pottedplant\", \"sheep\",\n",
    "            \"sofa\", \"train\", \"tvmonitor\"]\n",
    "\n",
    "COLORS = np.random.uniform(0, 255, size=(len(CLASSES), 3)) # shape(20,3)\n",
    "\n",
    "print(\"Classes:\\n\", CLASSES, \"\\n\")\n",
    "print(\"Colors:\\n \", COLORS, \"\\n\")"
   ]
  },
  {
   "cell_type": "code",
   "execution_count": 3,
   "metadata": {},
   "outputs": [],
   "source": [
    "proto_file = os.path.abspath('MobileNetSSD_deploy.prototxt.txt') #Contain a list of the network layers in the model.\n",
    "model_file = os.path.abspath('MobileNetSSD_deploy.caffemodel') #This file contains the weights of the model.\n",
    "#Create the model.\n",
    "net = cv2.dnn.readNetFromCaffe(proto_file, model_file)"
   ]
  },
  {
   "cell_type": "code",
   "execution_count": 4,
   "metadata": {},
   "outputs": [],
   "source": [
    "# Scaling parameters.\n",
    "\n",
    "input_shape=(300,300) # The required shape for the input image to pass to our model.\n",
    "\n",
    "mean = (127.5,127.5,127.5) # Normalize the image pixels.\n",
    "\n",
    "scale = 0.007843 # Scale the image to meet the input criteria of the model."
   ]
  },
  {
   "cell_type": "code",
   "execution_count": 5,
   "metadata": {},
   "outputs": [],
   "source": [
    "# Image preprocessing.\n",
    "img = cv2.imread('image_1.jpg')\n",
    "# img = cv2.imread('image_2.jpeg')\n",
    "# img = cv2.imread('image_3.jpeg')\n",
    "\n",
    "#Blob analysis is image processing's most basic method for analyzing the shape features of an object, \n",
    "#such as the presence, number, area, position, length, and direction of lumps.\n",
    "blob = cv2.dnn.blobFromImage(img, scalefactor=scale, size=input_shape, mean=mean, swapRB=True) \n",
    "# Image is already in the BGR form because opencv by default reads it in BGR format."
   ]
  },
  {
   "cell_type": "code",
   "execution_count": 6,
   "metadata": {},
   "outputs": [
    {
     "data": {
      "text/plain": [
       "(194, 259, 3)"
      ]
     },
     "execution_count": 6,
     "metadata": {},
     "output_type": "execute_result"
    }
   ],
   "source": [
    "img.shape"
   ]
  },
  {
   "cell_type": "code",
   "execution_count": 7,
   "metadata": {
    "collapsed": true,
    "jupyter": {
     "outputs_hidden": true
    },
    "tags": []
   },
   "outputs": [
    {
     "data": {
      "text/plain": [
       "array([[[239, 220, 205],\n",
       "        [239, 220, 205],\n",
       "        [240, 221, 206],\n",
       "        ...,\n",
       "        [232, 210, 199],\n",
       "        [232, 210, 199],\n",
       "        [232, 210, 199]],\n",
       "\n",
       "       [[239, 220, 205],\n",
       "        [239, 220, 205],\n",
       "        [239, 220, 205],\n",
       "        ...,\n",
       "        [232, 210, 199],\n",
       "        [232, 210, 199],\n",
       "        [232, 210, 199]],\n",
       "\n",
       "       [[238, 219, 204],\n",
       "        [238, 219, 204],\n",
       "        [239, 220, 205],\n",
       "        ...,\n",
       "        [234, 209, 199],\n",
       "        [234, 209, 199],\n",
       "        [234, 209, 199]],\n",
       "\n",
       "       ...,\n",
       "\n",
       "       [[108,  92,  76],\n",
       "        [107,  91,  75],\n",
       "        [106,  90,  74],\n",
       "        ...,\n",
       "        [106,  89,  76],\n",
       "        [106,  89,  76],\n",
       "        [106,  89,  76]],\n",
       "\n",
       "       [[101,  85,  69],\n",
       "        [101,  85,  69],\n",
       "        [101,  85,  69],\n",
       "        ...,\n",
       "        [106,  90,  74],\n",
       "        [106,  90,  74],\n",
       "        [106,  90,  74]],\n",
       "\n",
       "       [[101,  85,  69],\n",
       "        [101,  85,  69],\n",
       "        [101,  85,  69],\n",
       "        ...,\n",
       "        [100,  84,  67],\n",
       "        [100,  84,  67],\n",
       "        [100,  84,  67]]], dtype=uint8)"
      ]
     },
     "execution_count": 7,
     "metadata": {},
     "output_type": "execute_result"
    }
   ],
   "source": [
    "img"
   ]
  },
  {
   "cell_type": "code",
   "execution_count": 8,
   "metadata": {},
   "outputs": [
    {
     "data": {
      "text/plain": [
       "(1, 3, 300, 300)"
      ]
     },
     "execution_count": 8,
     "metadata": {},
     "output_type": "execute_result"
    }
   ],
   "source": [
    "blob.shape"
   ]
  },
  {
   "cell_type": "code",
   "execution_count": 9,
   "metadata": {
    "collapsed": true,
    "jupyter": {
     "outputs_hidden": true
    },
    "tags": []
   },
   "outputs": [
    {
     "data": {
      "text/plain": [
       "array([[[[ 0.6078325 ,  0.6078325 ,  0.6156755 , ...,  0.5607745 ,\n",
       "           0.5607745 ,  0.5607745 ],\n",
       "         [ 0.6078325 ,  0.6078325 ,  0.6078325 , ...,  0.5607745 ,\n",
       "           0.5607745 ,  0.5607745 ],\n",
       "         [ 0.6078325 ,  0.6078325 ,  0.6078325 , ...,  0.5607745 ,\n",
       "           0.5607745 ,  0.5607745 ],\n",
       "         ...,\n",
       "         [-0.4509725 , -0.4509725 , -0.4588155 , ..., -0.4196005 ,\n",
       "          -0.4196005 , -0.4196005 ],\n",
       "         [-0.4588155 , -0.4588155 , -0.4588155 , ..., -0.4509725 ,\n",
       "          -0.4509725 , -0.4509725 ],\n",
       "         [-0.4588155 , -0.4588155 , -0.4588155 , ..., -0.4745015 ,\n",
       "          -0.4745015 , -0.4745015 ]],\n",
       "\n",
       "        [[ 0.7254775 ,  0.7254775 ,  0.7333205 , ...,  0.6470475 ,\n",
       "           0.6470475 ,  0.6470475 ],\n",
       "         [ 0.7254775 ,  0.7254775 ,  0.7254775 , ...,  0.6470475 ,\n",
       "           0.6470475 ,  0.6470475 ],\n",
       "         [ 0.7254775 ,  0.7254775 ,  0.7254775 , ...,  0.6470475 ,\n",
       "           0.6470475 ,  0.6470475 ],\n",
       "         ...,\n",
       "         [-0.32548448, -0.32548448, -0.32548448, ..., -0.2941125 ,\n",
       "          -0.2941125 , -0.2941125 ],\n",
       "         [-0.3333275 , -0.3333275 , -0.3333275 , ..., -0.3176415 ,\n",
       "          -0.3176415 , -0.3176415 ],\n",
       "         [-0.3333275 , -0.3333275 , -0.3333275 , ..., -0.3411705 ,\n",
       "          -0.3411705 , -0.3411705 ]],\n",
       "\n",
       "        [[ 0.8744945 ,  0.8744945 ,  0.8823375 , ...,  0.8195935 ,\n",
       "           0.8195935 ,  0.8195935 ],\n",
       "         [ 0.8744945 ,  0.8744945 ,  0.8744945 , ...,  0.8195935 ,\n",
       "           0.8195935 ,  0.8195935 ],\n",
       "         [ 0.8744945 ,  0.8744945 ,  0.8744945 , ...,  0.8195935 ,\n",
       "           0.8195935 ,  0.8195935 ],\n",
       "         ...,\n",
       "         [-0.1999965 , -0.1999965 , -0.2078395 , ..., -0.16862449,\n",
       "          -0.16862449, -0.16862449],\n",
       "         [-0.2078395 , -0.2078395 , -0.2078395 , ..., -0.1921535 ,\n",
       "          -0.1921535 , -0.1921535 ],\n",
       "         [-0.2078395 , -0.2078395 , -0.2078395 , ..., -0.21568249,\n",
       "          -0.21568249, -0.21568249]]]], dtype=float32)"
      ]
     },
     "execution_count": 9,
     "metadata": {},
     "output_type": "execute_result"
    }
   ],
   "source": [
    "blob"
   ]
  },
  {
   "cell_type": "code",
   "execution_count": 10,
   "metadata": {},
   "outputs": [],
   "source": [
    "# Model input\n",
    "net.setInput(blob)\n",
    "\n",
    "# Model output\n",
    "results = net.forward()"
   ]
  },
  {
   "cell_type": "code",
   "execution_count": 11,
   "metadata": {},
   "outputs": [
    {
     "data": {
      "text/plain": [
       "(1, 1, 100, 7)"
      ]
     },
     "execution_count": 11,
     "metadata": {},
     "output_type": "execute_result"
    }
   ],
   "source": [
    "results.shape\n",
    "#1,1 tell us number of images we are currently working on.\n",
    "#100 is the numbers of the assumed detected objects.\n",
    "#7 is vector of 7 values [Image number, Class, Confidence score (0 to 1), StartX, StartY, EndX, EndY]."
   ]
  },
  {
   "cell_type": "code",
   "execution_count": 12,
   "metadata": {
    "collapsed": true,
    "jupyter": {
     "outputs_hidden": true
    },
    "tags": []
   },
   "outputs": [
    {
     "data": {
      "text/plain": [
       "array([[[[0.        , 4.        , 0.9992661 , 0.1969516 , 0.19366355,\n",
       "          0.79283667, 0.67600906],\n",
       "         [0.        , 0.        , 0.        , 0.        , 0.        ,\n",
       "          0.        , 0.        ],\n",
       "         [0.        , 0.        , 0.        , 0.        , 0.        ,\n",
       "          0.        , 0.        ],\n",
       "         [0.        , 0.        , 0.        , 0.        , 0.        ,\n",
       "          0.        , 0.        ],\n",
       "         [0.        , 0.        , 0.        , 0.        , 0.        ,\n",
       "          0.        , 0.        ],\n",
       "         [0.        , 0.        , 0.        , 0.        , 0.        ,\n",
       "          0.        , 0.        ],\n",
       "         [0.        , 0.        , 0.        , 0.        , 0.        ,\n",
       "          0.        , 0.        ],\n",
       "         [0.        , 0.        , 0.        , 0.        , 0.        ,\n",
       "          0.        , 0.        ],\n",
       "         [0.        , 0.        , 0.        , 0.        , 0.        ,\n",
       "          0.        , 0.        ],\n",
       "         [0.        , 0.        , 0.        , 0.        , 0.        ,\n",
       "          0.        , 0.        ],\n",
       "         [0.        , 0.        , 0.        , 0.        , 0.        ,\n",
       "          0.        , 0.        ],\n",
       "         [0.        , 0.        , 0.        , 0.        , 0.        ,\n",
       "          0.        , 0.        ],\n",
       "         [0.        , 0.        , 0.        , 0.        , 0.        ,\n",
       "          0.        , 0.        ],\n",
       "         [0.        , 0.        , 0.        , 0.        , 0.        ,\n",
       "          0.        , 0.        ],\n",
       "         [0.        , 0.        , 0.        , 0.        , 0.        ,\n",
       "          0.        , 0.        ],\n",
       "         [0.        , 0.        , 0.        , 0.        , 0.        ,\n",
       "          0.        , 0.        ],\n",
       "         [0.        , 0.        , 0.        , 0.        , 0.        ,\n",
       "          0.        , 0.        ],\n",
       "         [0.        , 0.        , 0.        , 0.        , 0.        ,\n",
       "          0.        , 0.        ],\n",
       "         [0.        , 0.        , 0.        , 0.        , 0.        ,\n",
       "          0.        , 0.        ],\n",
       "         [0.        , 0.        , 0.        , 0.        , 0.        ,\n",
       "          0.        , 0.        ],\n",
       "         [0.        , 0.        , 0.        , 0.        , 0.        ,\n",
       "          0.        , 0.        ],\n",
       "         [0.        , 0.        , 0.        , 0.        , 0.        ,\n",
       "          0.        , 0.        ],\n",
       "         [0.        , 0.        , 0.        , 0.        , 0.        ,\n",
       "          0.        , 0.        ],\n",
       "         [0.        , 0.        , 0.        , 0.        , 0.        ,\n",
       "          0.        , 0.        ],\n",
       "         [0.        , 0.        , 0.        , 0.        , 0.        ,\n",
       "          0.        , 0.        ],\n",
       "         [0.        , 0.        , 0.        , 0.        , 0.        ,\n",
       "          0.        , 0.        ],\n",
       "         [0.        , 0.        , 0.        , 0.        , 0.        ,\n",
       "          0.        , 0.        ],\n",
       "         [0.        , 0.        , 0.        , 0.        , 0.        ,\n",
       "          0.        , 0.        ],\n",
       "         [0.        , 0.        , 0.        , 0.        , 0.        ,\n",
       "          0.        , 0.        ],\n",
       "         [0.        , 0.        , 0.        , 0.        , 0.        ,\n",
       "          0.        , 0.        ],\n",
       "         [0.        , 0.        , 0.        , 0.        , 0.        ,\n",
       "          0.        , 0.        ],\n",
       "         [0.        , 0.        , 0.        , 0.        , 0.        ,\n",
       "          0.        , 0.        ],\n",
       "         [0.        , 0.        , 0.        , 0.        , 0.        ,\n",
       "          0.        , 0.        ],\n",
       "         [0.        , 0.        , 0.        , 0.        , 0.        ,\n",
       "          0.        , 0.        ],\n",
       "         [0.        , 0.        , 0.        , 0.        , 0.        ,\n",
       "          0.        , 0.        ],\n",
       "         [0.        , 0.        , 0.        , 0.        , 0.        ,\n",
       "          0.        , 0.        ],\n",
       "         [0.        , 0.        , 0.        , 0.        , 0.        ,\n",
       "          0.        , 0.        ],\n",
       "         [0.        , 0.        , 0.        , 0.        , 0.        ,\n",
       "          0.        , 0.        ],\n",
       "         [0.        , 0.        , 0.        , 0.        , 0.        ,\n",
       "          0.        , 0.        ],\n",
       "         [0.        , 0.        , 0.        , 0.        , 0.        ,\n",
       "          0.        , 0.        ],\n",
       "         [0.        , 0.        , 0.        , 0.        , 0.        ,\n",
       "          0.        , 0.        ],\n",
       "         [0.        , 0.        , 0.        , 0.        , 0.        ,\n",
       "          0.        , 0.        ],\n",
       "         [0.        , 0.        , 0.        , 0.        , 0.        ,\n",
       "          0.        , 0.        ],\n",
       "         [0.        , 0.        , 0.        , 0.        , 0.        ,\n",
       "          0.        , 0.        ],\n",
       "         [0.        , 0.        , 0.        , 0.        , 0.        ,\n",
       "          0.        , 0.        ],\n",
       "         [0.        , 0.        , 0.        , 0.        , 0.        ,\n",
       "          0.        , 0.        ],\n",
       "         [0.        , 0.        , 0.        , 0.        , 0.        ,\n",
       "          0.        , 0.        ],\n",
       "         [0.        , 0.        , 0.        , 0.        , 0.        ,\n",
       "          0.        , 0.        ],\n",
       "         [0.        , 0.        , 0.        , 0.        , 0.        ,\n",
       "          0.        , 0.        ],\n",
       "         [0.        , 0.        , 0.        , 0.        , 0.        ,\n",
       "          0.        , 0.        ],\n",
       "         [0.        , 0.        , 0.        , 0.        , 0.        ,\n",
       "          0.        , 0.        ],\n",
       "         [0.        , 0.        , 0.        , 0.        , 0.        ,\n",
       "          0.        , 0.        ],\n",
       "         [0.        , 0.        , 0.        , 0.        , 0.        ,\n",
       "          0.        , 0.        ],\n",
       "         [0.        , 0.        , 0.        , 0.        , 0.        ,\n",
       "          0.        , 0.        ],\n",
       "         [0.        , 0.        , 0.        , 0.        , 0.        ,\n",
       "          0.        , 0.        ],\n",
       "         [0.        , 0.        , 0.        , 0.        , 0.        ,\n",
       "          0.        , 0.        ],\n",
       "         [0.        , 0.        , 0.        , 0.        , 0.        ,\n",
       "          0.        , 0.        ],\n",
       "         [0.        , 0.        , 0.        , 0.        , 0.        ,\n",
       "          0.        , 0.        ],\n",
       "         [0.        , 0.        , 0.        , 0.        , 0.        ,\n",
       "          0.        , 0.        ],\n",
       "         [0.        , 0.        , 0.        , 0.        , 0.        ,\n",
       "          0.        , 0.        ],\n",
       "         [0.        , 0.        , 0.        , 0.        , 0.        ,\n",
       "          0.        , 0.        ],\n",
       "         [0.        , 0.        , 0.        , 0.        , 0.        ,\n",
       "          0.        , 0.        ],\n",
       "         [0.        , 0.        , 0.        , 0.        , 0.        ,\n",
       "          0.        , 0.        ],\n",
       "         [0.        , 0.        , 0.        , 0.        , 0.        ,\n",
       "          0.        , 0.        ],\n",
       "         [0.        , 0.        , 0.        , 0.        , 0.        ,\n",
       "          0.        , 0.        ],\n",
       "         [0.        , 0.        , 0.        , 0.        , 0.        ,\n",
       "          0.        , 0.        ],\n",
       "         [0.        , 0.        , 0.        , 0.        , 0.        ,\n",
       "          0.        , 0.        ],\n",
       "         [0.        , 0.        , 0.        , 0.        , 0.        ,\n",
       "          0.        , 0.        ],\n",
       "         [0.        , 0.        , 0.        , 0.        , 0.        ,\n",
       "          0.        , 0.        ],\n",
       "         [0.        , 0.        , 0.        , 0.        , 0.        ,\n",
       "          0.        , 0.        ],\n",
       "         [0.        , 0.        , 0.        , 0.        , 0.        ,\n",
       "          0.        , 0.        ],\n",
       "         [0.        , 0.        , 0.        , 0.        , 0.        ,\n",
       "          0.        , 0.        ],\n",
       "         [0.        , 0.        , 0.        , 0.        , 0.        ,\n",
       "          0.        , 0.        ],\n",
       "         [0.        , 0.        , 0.        , 0.        , 0.        ,\n",
       "          0.        , 0.        ],\n",
       "         [0.        , 0.        , 0.        , 0.        , 0.        ,\n",
       "          0.        , 0.        ],\n",
       "         [0.        , 0.        , 0.        , 0.        , 0.        ,\n",
       "          0.        , 0.        ],\n",
       "         [0.        , 0.        , 0.        , 0.        , 0.        ,\n",
       "          0.        , 0.        ],\n",
       "         [0.        , 0.        , 0.        , 0.        , 0.        ,\n",
       "          0.        , 0.        ],\n",
       "         [0.        , 0.        , 0.        , 0.        , 0.        ,\n",
       "          0.        , 0.        ],\n",
       "         [0.        , 0.        , 0.        , 0.        , 0.        ,\n",
       "          0.        , 0.        ],\n",
       "         [0.        , 0.        , 0.        , 0.        , 0.        ,\n",
       "          0.        , 0.        ],\n",
       "         [0.        , 0.        , 0.        , 0.        , 0.        ,\n",
       "          0.        , 0.        ],\n",
       "         [0.        , 0.        , 0.        , 0.        , 0.        ,\n",
       "          0.        , 0.        ],\n",
       "         [0.        , 0.        , 0.        , 0.        , 0.        ,\n",
       "          0.        , 0.        ],\n",
       "         [0.        , 0.        , 0.        , 0.        , 0.        ,\n",
       "          0.        , 0.        ],\n",
       "         [0.        , 0.        , 0.        , 0.        , 0.        ,\n",
       "          0.        , 0.        ],\n",
       "         [0.        , 0.        , 0.        , 0.        , 0.        ,\n",
       "          0.        , 0.        ],\n",
       "         [0.        , 0.        , 0.        , 0.        , 0.        ,\n",
       "          0.        , 0.        ],\n",
       "         [0.        , 0.        , 0.        , 0.        , 0.        ,\n",
       "          0.        , 0.        ],\n",
       "         [0.        , 0.        , 0.        , 0.        , 0.        ,\n",
       "          0.        , 0.        ],\n",
       "         [0.        , 0.        , 0.        , 0.        , 0.        ,\n",
       "          0.        , 0.        ],\n",
       "         [0.        , 0.        , 0.        , 0.        , 0.        ,\n",
       "          0.        , 0.        ],\n",
       "         [0.        , 0.        , 0.        , 0.        , 0.        ,\n",
       "          0.        , 0.        ],\n",
       "         [0.        , 0.        , 0.        , 0.        , 0.        ,\n",
       "          0.        , 0.        ],\n",
       "         [0.        , 0.        , 0.        , 0.        , 0.        ,\n",
       "          0.        , 0.        ],\n",
       "         [0.        , 0.        , 0.        , 0.        , 0.        ,\n",
       "          0.        , 0.        ],\n",
       "         [0.        , 0.        , 0.        , 0.        , 0.        ,\n",
       "          0.        , 0.        ],\n",
       "         [0.        , 0.        , 0.        , 0.        , 0.        ,\n",
       "          0.        , 0.        ],\n",
       "         [0.        , 0.        , 0.        , 0.        , 0.        ,\n",
       "          0.        , 0.        ],\n",
       "         [0.        , 0.        , 0.        , 0.        , 0.        ,\n",
       "          0.        , 0.        ]]]], dtype=float32)"
      ]
     },
     "execution_count": 12,
     "metadata": {},
     "output_type": "execute_result"
    }
   ],
   "source": [
    "results"
   ]
  },
  {
   "cell_type": "code",
   "execution_count": 13,
   "metadata": {},
   "outputs": [
    {
     "name": "stdout",
     "output_type": "stream",
     "text": [
      "[0.         4.         0.9992661  0.1969516  0.19366355 0.79283667\n",
      " 0.67600906]\n"
     ]
    }
   ],
   "source": [
    "print(results[0,0,0,:])"
   ]
  },
  {
   "cell_type": "code",
   "execution_count": 14,
   "metadata": {},
   "outputs": [
    {
     "name": "stdout",
     "output_type": "stream",
     "text": [
      "0.1969516 0.19366355 0.79283667 0.67600906\n"
     ]
    }
   ],
   "source": [
    "# 3-6 contains the coordinate of the border.\n",
    "x1, y1, x2, y2 = results[0, 0, 0, 3:7] \n",
    "print(x1,y1,x2,y2)"
   ]
  },
  {
   "cell_type": "code",
   "execution_count": 15,
   "metadata": {},
   "outputs": [
    {
     "name": "stdout",
     "output_type": "stream",
     "text": [
      "0.9992661\n",
      "1.0\n"
     ]
    }
   ],
   "source": [
    "print(results[0, 0, 0, 2])\n",
    "print(round(results[0, 0, 0, 2],2))"
   ]
  },
  {
   "cell_type": "code",
   "execution_count": 16,
   "metadata": {},
   "outputs": [
    {
     "data": {
      "text/plain": [
       "4"
      ]
     },
     "execution_count": 16,
     "metadata": {},
     "output_type": "execute_result"
    }
   ],
   "source": [
    "int(results[0, 0, 0, 1])"
   ]
  },
  {
   "cell_type": "code",
   "execution_count": 17,
   "metadata": {},
   "outputs": [
    {
     "name": "stdout",
     "output_type": "stream",
     "text": [
      "Class: boat: 100.00%\n"
     ]
    }
   ],
   "source": [
    "for i in range(results.shape[2]):\n",
    "    # confidence\n",
    "    confidence = round(results[0, 0, i, 2],2)\n",
    "    if confidence > 0.3:\n",
    "        # class id\n",
    "        id = int(results[0, 0, i, 1]) \n",
    "         \n",
    "        # 3-6 contains the coordinate\n",
    "        x1, y1, x2, y2 = results[0, 0, i, 3:7] \n",
    "        \n",
    "        # scale these coordinates to out image pixel\n",
    "        ih, iw, ic = img.shape\n",
    "        x1, x2 = int(x1*iw), int(x2*iw)\n",
    "        y1, y2 = int(y1 * ih), int(y2 * ih)\n",
    "        \n",
    "        # display the prediction\n",
    "        label = \"{}: {:.2f}%\".format(CLASSES[id], confidence * 100)\n",
    "        print(\"Class: {}\".format(label))\n",
    "        cv2.rectangle(img,(x1, y1),(x2, y2),COLORS[id], 2)\n",
    "        cv2.putText(img, f'{CLASSES[id]}:{round(confidence*100,2)}',(x1+30, y1-20),cv2.FONT_HERSHEY_DUPLEX,0.7, COLORS[id], 1)\n",
    "    \n",
    "img = cv2.resize(img, (640, 640))\n",
    "cv2.imshow('Image', img)\n",
    "# cv2.imwrite('output1.jpg',img) # Uncomment this line to save the output\n",
    "cv2.waitKey(5000)\n",
    "cv2.destroyAllWindows() "
   ]
  },
  {
   "cell_type": "code",
   "execution_count": 18,
   "metadata": {},
   "outputs": [
    {
     "data": {
      "image/png": "[encoded data removed]",
      "text/plain": [
       "<Figure size 432x288 with 1 Axes>"
      ]
     },
     "metadata": {
      "needs_background": "light"
     },
     "output_type": "display_data"
    }
   ],
   "source": [
    "fig = plt.figure()\n",
    "ax1 = fig.add_axes((0.1, 0.2, 0.8, 0.7))\n",
    "ax1.set_title('Object Detection')\n",
    "plt.axis(\"off\")\n",
    "plt.imshow(cv2.cvtColor(img, cv2.COLOR_BGR2RGB))\n",
    "plt.show()"
   ]
  },
  {
   "cell_type": "code",
   "execution_count": null,
   "metadata": {},
   "outputs": [],
   "source": []
  }
 ],
 "metadata": {
  "kernelspec": {
   "display_name": "Python 3 (ipykernel)",
   "language": "python",
   "name": "python3"
  },
  "language_info": {
   "codemirror_mode": {
    "name": "ipython",
    "version": 3
   },
   "file_extension": ".py",
   "mimetype": "text/x-python",
   "name": "python",
   "nbconvert_exporter": "python",
   "pygments_lexer": "ipython3",
   "version": "3.9.12"
  }
 },
 "nbformat": 4,
 "nbformat_minor": 4
}
